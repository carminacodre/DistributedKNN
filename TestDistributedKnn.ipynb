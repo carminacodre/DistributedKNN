{
 "cells": [
  {
   "cell_type": "markdown",
   "metadata": {},
   "source": [
    "# Test different Distributed KNN strategies"
   ]
  },
  {
   "cell_type": "code",
   "execution_count": 1,
   "metadata": {},
   "outputs": [],
   "source": [
    "from data_utils import read_data, split_data, read_preprocess_data\n",
    "from mapper import MapperDifferentSources, MapperDifferentTestSamples\n",
    "from distances import euclidian"
   ]
  },
  {
   "cell_type": "code",
   "execution_count": 2,
   "metadata": {},
   "outputs": [],
   "source": [
    "test_factor = 0.15"
   ]
  },
  {
   "cell_type": "code",
   "execution_count": 3,
   "metadata": {},
   "outputs": [],
   "source": [
    "source_file_complete = 'data/iris.csv'\n",
    "nr_splits = 4"
   ]
  },
  {
   "cell_type": "markdown",
   "metadata": {},
   "source": [
    "### Split the dataset for simulation of a distributed dataset"
   ]
  },
  {
   "cell_type": "code",
   "execution_count": 4,
   "metadata": {},
   "outputs": [
    {
     "name": "stdout",
     "output_type": "stream",
     "text": [
      "Read the dataset\n",
      "Data splitted into test and separate files\n"
     ]
    }
   ],
   "source": [
    "dataset = read_data(source_file_complete)\n",
    "split_data(dataset, nr_splits, test_factor)"
   ]
  },
  {
   "cell_type": "code",
   "execution_count": 5,
   "metadata": {},
   "outputs": [],
   "source": [
    "file_list = ['data/dataset0.csv','data/dataset1.csv','data/dataset2.csv','data/dataset3.csv']\n",
    "test_file = 'data/test.csv'\n",
    "train_file = 'data/train.csv'"
   ]
  },
  {
   "cell_type": "code",
   "execution_count": 6,
   "metadata": {},
   "outputs": [
    {
     "name": "stdout",
     "output_type": "stream",
     "text": [
      "Read the dataset\n",
      "Header:['sepal_length', 'sepal_width', 'petal_length', 'petal_width', 'species']\n"
     ]
    }
   ],
   "source": [
    "test_samples, test_classes = read_preprocess_data(test_file)"
   ]
  },
  {
   "cell_type": "markdown",
   "metadata": {},
   "source": [
    "### Test the distributed KNN for a distributed dataset"
   ]
  },
  {
   "cell_type": "markdown",
   "metadata": {},
   "source": [
    "Start the threads which compute the results"
   ]
  },
  {
   "cell_type": "code",
   "execution_count": 7,
   "metadata": {},
   "outputs": [
    {
     "name": "stdout",
     "output_type": "stream",
     "text": [
      "Read the dataset\n",
      "Header:['sepal_length', 'sepal_width', 'petal_length', 'petal_width', 'species']\n",
      "Read the dataset\n",
      "Header:['sepal_length', 'sepal_width', 'petal_length', 'petal_width', 'species']\n",
      "Read the dataset\n",
      "Header:['sepal_length', 'sepal_width', 'petal_length', 'petal_width', 'species']\n",
      "Read the dataset\n",
      "Header:['sepal_length', 'sepal_width', 'petal_length', 'petal_width', 'species']\n",
      "Thread finished 0\n",
      "Thread finished 1\n",
      "Thread finished 2\n",
      "Thread finished 3\n"
     ]
    }
   ],
   "source": [
    "mapper = MapperDifferentSources(k=4, distance = euclidian)\n",
    "mapper.map_and_start(file_list,test_samples=test_samples)"
   ]
  },
  {
   "cell_type": "markdown",
   "metadata": {},
   "source": [
    "Merge the results"
   ]
  },
  {
   "cell_type": "markdown",
   "metadata": {},
   "source": [
    "### Test the distributed KNN for separating the test samples"
   ]
  },
  {
   "cell_type": "markdown",
   "metadata": {},
   "source": [
    "Start the threads which compute the results"
   ]
  },
  {
   "cell_type": "code",
   "execution_count": 8,
   "metadata": {},
   "outputs": [
    {
     "name": "stdout",
     "output_type": "stream",
     "text": [
      "Read the dataset\n",
      "Header:['sepal_length', 'sepal_width', 'petal_length', 'petal_width', 'species']\n",
      "Read the dataset\n",
      "Header:['sepal_length', 'sepal_width', 'petal_length', 'petal_width', 'species']\n",
      "Read the dataset\n",
      "Header:['sepal_length', 'sepal_width', 'petal_length', 'petal_width', 'species']\n",
      "Read the dataset\n",
      "Header:['sepal_length', 'sepal_width', 'petal_length', 'petal_width', 'species']\n",
      "Thread finished 0\n",
      "Thread finished 1\n",
      "Thread finished 2\n",
      "Thread finished 3\n"
     ]
    }
   ],
   "source": [
    "mapper = MapperDifferentTestSamples(k=4, distance=euclidian)\n",
    "mapper.map_and_start(train_file, nr_threads=4, test_samples=test_samples)"
   ]
  },
  {
   "cell_type": "markdown",
   "metadata": {},
   "source": [
    "Merge the results "
   ]
  },
  {
   "cell_type": "code",
   "execution_count": null,
   "metadata": {},
   "outputs": [],
   "source": []
  }
 ],
 "metadata": {
  "kernelspec": {
   "display_name": "ml",
   "language": "python",
   "name": "ml"
  },
  "language_info": {
   "codemirror_mode": {
    "name": "ipython",
    "version": 3
   },
   "file_extension": ".py",
   "mimetype": "text/x-python",
   "name": "python",
   "nbconvert_exporter": "python",
   "pygments_lexer": "ipython3",
   "version": "3.6.5"
  }
 },
 "nbformat": 4,
 "nbformat_minor": 2
}
